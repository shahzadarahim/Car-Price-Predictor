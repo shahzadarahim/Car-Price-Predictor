{
 "cells": [
  {
   "cell_type": "markdown",
   "id": "c444f003-3cd1-4549-9b2e-dce01872ae47",
   "metadata": {},
   "source": [
    "## Libraries"
   ]
  },
  {
   "cell_type": "code",
   "execution_count": 1,
   "id": "0e899736-7486-46e7-a790-f3ea461acab6",
   "metadata": {},
   "outputs": [],
   "source": [
    "import pandas as pd\n",
    "from sklearn.model_selection import train_test_split\n",
    "\n",
    "import warnings\n",
    "warnings.filterwarnings('ignore')"
   ]
  },
  {
   "cell_type": "code",
   "execution_count": 2,
   "id": "7e2a22dc-9734-4e87-8e02-443959228484",
   "metadata": {},
   "outputs": [],
   "source": [
    "# calling dataframe\n",
    "%store -r df\n",
    "df = df"
   ]
  },
  {
   "cell_type": "markdown",
   "id": "52a8f0fe-2438-4b44-89db-6e89d1653cfb",
   "metadata": {},
   "source": [
    "## Declare feature and target"
   ]
  },
  {
   "cell_type": "code",
   "execution_count": 3,
   "id": "3bb5d3e5-de29-4841-8978-c20ef7a89d98",
   "metadata": {},
   "outputs": [
    {
     "name": "stdout",
     "output_type": "stream",
     "text": [
      "Stored 'train_columns' (Index)\n"
     ]
    }
   ],
   "source": [
    "X = df.drop('Price', axis=1)\n",
    "y = df['Price']\n",
    "\n",
    "train_columns = df.drop('Price', axis=1).columns\n",
    "%store train_columns"
   ]
  },
  {
   "cell_type": "markdown",
   "id": "1e0054cf-ff9f-4cc5-b673-f71474b40406",
   "metadata": {},
   "source": [
    "## Data Splitting (train, val, test)"
   ]
  },
  {
   "cell_type": "code",
   "execution_count": 4,
   "id": "53bcf66b-f0d9-4d19-8a9d-b359399cad67",
   "metadata": {},
   "outputs": [],
   "source": [
    "X_train, X_val, y_train, y_val = train_test_split(X, y, test_size=0.2, random_state=42)"
   ]
  },
  {
   "cell_type": "markdown",
   "id": "0ced64b7-d14d-4d35-9c13-58164d4fe692",
   "metadata": {},
   "source": [
    "Data is split into train and validation sets so that we can consider test data as an unseen real data."
   ]
  },
  {
   "cell_type": "markdown",
   "id": "d54ccfe3-b00a-4a3a-82f3-ff123fe6cd69",
   "metadata": {},
   "source": [
    "## Checkpoint"
   ]
  },
  {
   "cell_type": "code",
   "execution_count": 5,
   "id": "2dceeff5-4ac4-4a8c-a949-792b1d69e84f",
   "metadata": {},
   "outputs": [
    {
     "name": "stdout",
     "output_type": "stream",
     "text": [
      "Stored 'X_train' (DataFrame)\n",
      "Stored 'y_train' (Series)\n",
      "Stored 'X_val' (DataFrame)\n",
      "Stored 'y_val' (Series)\n"
     ]
    }
   ],
   "source": [
    "%store X_train\n",
    "%store y_train\n",
    "    \n",
    "%store X_val\n",
    "%store y_val"
   ]
  },
  {
   "cell_type": "code",
   "execution_count": null,
   "id": "1833f4b0-878f-4b10-93c8-5421d89902d3",
   "metadata": {},
   "outputs": [],
   "source": []
  }
 ],
 "metadata": {
  "kernelspec": {
   "display_name": "Python 3 (ipykernel)",
   "language": "python",
   "name": "python3"
  },
  "language_info": {
   "codemirror_mode": {
    "name": "ipython",
    "version": 3
   },
   "file_extension": ".py",
   "mimetype": "text/x-python",
   "name": "python",
   "nbconvert_exporter": "python",
   "pygments_lexer": "ipython3",
   "version": "3.11.7"
  }
 },
 "nbformat": 4,
 "nbformat_minor": 5
}
