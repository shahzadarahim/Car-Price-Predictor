{
 "cells": [
  {
   "cell_type": "markdown",
   "id": "c444f003-3cd1-4549-9b2e-dce01872ae47",
   "metadata": {},
   "source": [
    "## Libraries"
   ]
  },
  {
   "cell_type": "code",
   "execution_count": 1,
   "id": "0e899736-7486-46e7-a790-f3ea461acab6",
   "metadata": {},
   "outputs": [],
   "source": [
    "import pandas as pd\n",
    "from sklearn.model_selection import train_test_split\n",
    "\n",
    "import warnings\n",
    "warnings.filterwarnings('ignore')"
   ]
  },
  {
   "cell_type": "code",
   "execution_count": 2,
   "id": "7e2a22dc-9734-4e87-8e02-443959228484",
   "metadata": {},
   "outputs": [],
   "source": [
    "# calling dataframe\n",
    "%store -r df\n",
    "df = df"
   ]
  },
  {
   "cell_type": "code",
   "execution_count": 3,
   "id": "aebd2f3e-3877-4dab-9bb0-78c233916431",
   "metadata": {},
   "outputs": [
    {
     "data": {
      "text/html": [
       "<div>\n",
       "<style scoped>\n",
       "    .dataframe tbody tr th:only-of-type {\n",
       "        vertical-align: middle;\n",
       "    }\n",
       "\n",
       "    .dataframe tbody tr th {\n",
       "        vertical-align: top;\n",
       "    }\n",
       "\n",
       "    .dataframe thead th {\n",
       "        text-align: right;\n",
       "    }\n",
       "</style>\n",
       "<table border=\"1\" class=\"dataframe\">\n",
       "  <thead>\n",
       "    <tr style=\"text-align: right;\">\n",
       "      <th></th>\n",
       "      <th>Brand</th>\n",
       "      <th>Model</th>\n",
       "      <th>Year</th>\n",
       "      <th>Engine_Size</th>\n",
       "      <th>Mileage</th>\n",
       "      <th>Doors</th>\n",
       "      <th>Owner_Count</th>\n",
       "      <th>Price</th>\n",
       "      <th>Transmission_Manual</th>\n",
       "      <th>Transmission_Semi-Automatic</th>\n",
       "      <th>Fuel_Type_Electric</th>\n",
       "      <th>Fuel_Type_Hybrid</th>\n",
       "      <th>Fuel_Type_Petrol</th>\n",
       "    </tr>\n",
       "  </thead>\n",
       "  <tbody>\n",
       "    <tr>\n",
       "      <th>9254</th>\n",
       "      <td>8901.128019</td>\n",
       "      <td>8782.205323</td>\n",
       "      <td>2007</td>\n",
       "      <td>3.2</td>\n",
       "      <td>33948</td>\n",
       "      <td>5</td>\n",
       "      <td>4</td>\n",
       "      <td>9721</td>\n",
       "      <td>0.0</td>\n",
       "      <td>1.0</td>\n",
       "      <td>0.0</td>\n",
       "      <td>1.0</td>\n",
       "      <td>0.0</td>\n",
       "    </tr>\n",
       "    <tr>\n",
       "      <th>1561</th>\n",
       "      <td>8650.208122</td>\n",
       "      <td>8604.644689</td>\n",
       "      <td>2010</td>\n",
       "      <td>4.8</td>\n",
       "      <td>224853</td>\n",
       "      <td>2</td>\n",
       "      <td>1</td>\n",
       "      <td>9402</td>\n",
       "      <td>0.0</td>\n",
       "      <td>1.0</td>\n",
       "      <td>1.0</td>\n",
       "      <td>0.0</td>\n",
       "      <td>0.0</td>\n",
       "    </tr>\n",
       "    <tr>\n",
       "      <th>1670</th>\n",
       "      <td>8780.323961</td>\n",
       "      <td>8729.062044</td>\n",
       "      <td>2006</td>\n",
       "      <td>1.9</td>\n",
       "      <td>13435</td>\n",
       "      <td>3</td>\n",
       "      <td>5</td>\n",
       "      <td>8531</td>\n",
       "      <td>0.0</td>\n",
       "      <td>1.0</td>\n",
       "      <td>0.0</td>\n",
       "      <td>1.0</td>\n",
       "      <td>0.0</td>\n",
       "    </tr>\n",
       "    <tr>\n",
       "      <th>6087</th>\n",
       "      <td>8585.052045</td>\n",
       "      <td>8640.753036</td>\n",
       "      <td>2019</td>\n",
       "      <td>1.7</td>\n",
       "      <td>199846</td>\n",
       "      <td>2</td>\n",
       "      <td>3</td>\n",
       "      <td>7503</td>\n",
       "      <td>0.0</td>\n",
       "      <td>1.0</td>\n",
       "      <td>0.0</td>\n",
       "      <td>0.0</td>\n",
       "      <td>0.0</td>\n",
       "    </tr>\n",
       "    <tr>\n",
       "      <th>6669</th>\n",
       "      <td>8892.547554</td>\n",
       "      <td>8934.714859</td>\n",
       "      <td>2005</td>\n",
       "      <td>3.6</td>\n",
       "      <td>261</td>\n",
       "      <td>3</td>\n",
       "      <td>2</td>\n",
       "      <td>10694</td>\n",
       "      <td>0.0</td>\n",
       "      <td>0.0</td>\n",
       "      <td>0.0</td>\n",
       "      <td>0.0</td>\n",
       "      <td>1.0</td>\n",
       "    </tr>\n",
       "  </tbody>\n",
       "</table>\n",
       "</div>"
      ],
      "text/plain": [
       "            Brand        Model  Year  Engine_Size  Mileage  Doors  \\\n",
       "9254  8901.128019  8782.205323  2007          3.2    33948      5   \n",
       "1561  8650.208122  8604.644689  2010          4.8   224853      2   \n",
       "1670  8780.323961  8729.062044  2006          1.9    13435      3   \n",
       "6087  8585.052045  8640.753036  2019          1.7   199846      2   \n",
       "6669  8892.547554  8934.714859  2005          3.6      261      3   \n",
       "\n",
       "      Owner_Count  Price  Transmission_Manual  Transmission_Semi-Automatic  \\\n",
       "9254            4   9721                  0.0                          1.0   \n",
       "1561            1   9402                  0.0                          1.0   \n",
       "1670            5   8531                  0.0                          1.0   \n",
       "6087            3   7503                  0.0                          1.0   \n",
       "6669            2  10694                  0.0                          0.0   \n",
       "\n",
       "      Fuel_Type_Electric  Fuel_Type_Hybrid  Fuel_Type_Petrol  \n",
       "9254                 0.0               1.0               0.0  \n",
       "1561                 1.0               0.0               0.0  \n",
       "1670                 0.0               1.0               0.0  \n",
       "6087                 0.0               0.0               0.0  \n",
       "6669                 0.0               0.0               1.0  "
      ]
     },
     "execution_count": 3,
     "metadata": {},
     "output_type": "execute_result"
    }
   ],
   "source": [
    "df.head()"
   ]
  },
  {
   "cell_type": "markdown",
   "id": "52a8f0fe-2438-4b44-89db-6e89d1653cfb",
   "metadata": {},
   "source": [
    "## Declare feature and target"
   ]
  },
  {
   "cell_type": "code",
   "execution_count": 4,
   "id": "3bb5d3e5-de29-4841-8978-c20ef7a89d98",
   "metadata": {},
   "outputs": [],
   "source": [
    "X = df.drop('Price', axis=1)\n",
    "y = df['Price']"
   ]
  },
  {
   "cell_type": "markdown",
   "id": "1e0054cf-ff9f-4cc5-b673-f71474b40406",
   "metadata": {},
   "source": [
    "## Data Splitting (train, val, test)"
   ]
  },
  {
   "cell_type": "markdown",
   "id": "0ced64b7-d14d-4d35-9c13-58164d4fe692",
   "metadata": {},
   "source": [
    "Data is split into train and validation sets so that we can consider test data as an unseen real data.\n",
    "Test data has been split at the beginning itself before cleaning."
   ]
  },
  {
   "cell_type": "code",
   "execution_count": 5,
   "id": "53bcf66b-f0d9-4d19-8a9d-b359399cad67",
   "metadata": {},
   "outputs": [],
   "source": [
    "X_train, X_val, y_train, y_val = train_test_split(X, y, test_size=0.2, random_state=42)"
   ]
  },
  {
   "cell_type": "markdown",
   "id": "d54ccfe3-b00a-4a3a-82f3-ff123fe6cd69",
   "metadata": {},
   "source": [
    "## Checkpoint"
   ]
  },
  {
   "cell_type": "code",
   "execution_count": 6,
   "id": "2dceeff5-4ac4-4a8c-a949-792b1d69e84f",
   "metadata": {},
   "outputs": [
    {
     "name": "stdout",
     "output_type": "stream",
     "text": [
      "Stored 'X_train' (DataFrame)\n",
      "Stored 'y_train' (Series)\n",
      "Stored 'X_val' (DataFrame)\n",
      "Stored 'y_val' (Series)\n"
     ]
    }
   ],
   "source": [
    "%store X_train\n",
    "%store y_train\n",
    "    \n",
    "%store X_val\n",
    "%store y_val"
   ]
  },
  {
   "cell_type": "code",
   "execution_count": null,
   "id": "1833f4b0-878f-4b10-93c8-5421d89902d3",
   "metadata": {},
   "outputs": [],
   "source": []
  }
 ],
 "metadata": {
  "kernelspec": {
   "display_name": "venv",
   "language": "python",
   "name": "python3"
  },
  "language_info": {
   "codemirror_mode": {
    "name": "ipython",
    "version": 3
   },
   "file_extension": ".py",
   "mimetype": "text/x-python",
   "name": "python",
   "nbconvert_exporter": "python",
   "pygments_lexer": "ipython3",
   "version": "3.13.1"
  }
 },
 "nbformat": 4,
 "nbformat_minor": 5
}
